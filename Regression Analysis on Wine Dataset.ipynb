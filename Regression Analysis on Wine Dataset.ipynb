{
  "nbformat": 4,
  "nbformat_minor": 0,
  "metadata": {
    "colab": {
      "provenance": [],
      "collapsed_sections": []
    },
    "kernelspec": {
      "name": "python3",
      "display_name": "Python 3"
    },
    "language_info": {
      "name": "python"
    }
  },
  "cells": [
    {
      "cell_type": "code",
      "execution_count": null,
      "metadata": {
        "id": "W_O0wzd18CV9"
      },
      "outputs": [],
      "source": [
        "import pandas as pd\n",
        "import numpy as np\n",
        "import seaborn as sns\n",
        "from sklearn.model_selection import train_test_split\n",
        "from sklearn.preprocessing import MinMaxScaler\n",
        "from sklearn.preprocessing import StandardScaler\n",
        "from sklearn.preprocessing import LabelEncoder\n",
        "import matplotlib.pyplot as plt\n",
        "%matplotlib inline"
      ]
    },
    {
      "cell_type": "code",
      "source": [
        "#mount Drive\n",
        "from google.colab import drive\n",
        "drive.mount('/content/drive')"
      ],
      "metadata": {
        "colab": {
          "base_uri": "https://localhost:8080/"
        },
        "id": "Czxkbj_s-pJF",
        "outputId": "aa8753cf-83f3-48ea-a286-adb16c3212c9"
      },
      "execution_count": null,
      "outputs": [
        {
          "output_type": "stream",
          "name": "stdout",
          "text": [
            "Drive already mounted at /content/drive; to attempt to forcibly remount, call drive.mount(\"/content/drive\", force_remount=True).\n"
          ]
        }
      ]
    },
    {
      "cell_type": "code",
      "source": [
        "#Loading the dataset\n",
        "wine = pd.read_csv('/content/drive/MyDrive/SKILL_DEV/Machine Learning/422 ML/datasets/wine.csv')\n",
        "wine.head(3)"
      ],
      "metadata": {
        "colab": {
          "base_uri": "https://localhost:8080/",
          "height": 187
        },
        "id": "1z9XZX-982Nf",
        "outputId": "e238f0f4-be27-4537-c267-632607eae37b"
      },
      "execution_count": null,
      "outputs": [
        {
          "output_type": "execute_result",
          "data": {
            "text/plain": [
              "   fixed acidity  volatile acidity  citric acid  residual sugar  chlorides  \\\n",
              "0            7.4              0.70         0.00             1.9      0.076   \n",
              "1            7.8              0.88         0.00             2.6      0.098   \n",
              "2            7.8              0.76         0.04             2.3      0.092   \n",
              "\n",
              "   free sulfur dioxide  total sulfur dioxide  density    pH  sulphates  \\\n",
              "0                 11.0                  34.0   0.9978  3.51       0.56   \n",
              "1                 25.0                  67.0   0.9968  3.20       0.68   \n",
              "2                 15.0                  54.0   0.9970  3.26       0.65   \n",
              "\n",
              "   alcohol quality  \n",
              "0      9.4     bad  \n",
              "1      9.8     bad  \n",
              "2      9.8     bad  "
            ],
            "text/html": [
              "\n",
              "  <div id=\"df-2097fe91-aad7-413e-9024-77ebae418bc1\">\n",
              "    <div class=\"colab-df-container\">\n",
              "      <div>\n",
              "<style scoped>\n",
              "    .dataframe tbody tr th:only-of-type {\n",
              "        vertical-align: middle;\n",
              "    }\n",
              "\n",
              "    .dataframe tbody tr th {\n",
              "        vertical-align: top;\n",
              "    }\n",
              "\n",
              "    .dataframe thead th {\n",
              "        text-align: right;\n",
              "    }\n",
              "</style>\n",
              "<table border=\"1\" class=\"dataframe\">\n",
              "  <thead>\n",
              "    <tr style=\"text-align: right;\">\n",
              "      <th></th>\n",
              "      <th>fixed acidity</th>\n",
              "      <th>volatile acidity</th>\n",
              "      <th>citric acid</th>\n",
              "      <th>residual sugar</th>\n",
              "      <th>chlorides</th>\n",
              "      <th>free sulfur dioxide</th>\n",
              "      <th>total sulfur dioxide</th>\n",
              "      <th>density</th>\n",
              "      <th>pH</th>\n",
              "      <th>sulphates</th>\n",
              "      <th>alcohol</th>\n",
              "      <th>quality</th>\n",
              "    </tr>\n",
              "  </thead>\n",
              "  <tbody>\n",
              "    <tr>\n",
              "      <th>0</th>\n",
              "      <td>7.4</td>\n",
              "      <td>0.70</td>\n",
              "      <td>0.00</td>\n",
              "      <td>1.9</td>\n",
              "      <td>0.076</td>\n",
              "      <td>11.0</td>\n",
              "      <td>34.0</td>\n",
              "      <td>0.9978</td>\n",
              "      <td>3.51</td>\n",
              "      <td>0.56</td>\n",
              "      <td>9.4</td>\n",
              "      <td>bad</td>\n",
              "    </tr>\n",
              "    <tr>\n",
              "      <th>1</th>\n",
              "      <td>7.8</td>\n",
              "      <td>0.88</td>\n",
              "      <td>0.00</td>\n",
              "      <td>2.6</td>\n",
              "      <td>0.098</td>\n",
              "      <td>25.0</td>\n",
              "      <td>67.0</td>\n",
              "      <td>0.9968</td>\n",
              "      <td>3.20</td>\n",
              "      <td>0.68</td>\n",
              "      <td>9.8</td>\n",
              "      <td>bad</td>\n",
              "    </tr>\n",
              "    <tr>\n",
              "      <th>2</th>\n",
              "      <td>7.8</td>\n",
              "      <td>0.76</td>\n",
              "      <td>0.04</td>\n",
              "      <td>2.3</td>\n",
              "      <td>0.092</td>\n",
              "      <td>15.0</td>\n",
              "      <td>54.0</td>\n",
              "      <td>0.9970</td>\n",
              "      <td>3.26</td>\n",
              "      <td>0.65</td>\n",
              "      <td>9.8</td>\n",
              "      <td>bad</td>\n",
              "    </tr>\n",
              "  </tbody>\n",
              "</table>\n",
              "</div>\n",
              "      <button class=\"colab-df-convert\" onclick=\"convertToInteractive('df-2097fe91-aad7-413e-9024-77ebae418bc1')\"\n",
              "              title=\"Convert this dataframe to an interactive table.\"\n",
              "              style=\"display:none;\">\n",
              "        \n",
              "  <svg xmlns=\"http://www.w3.org/2000/svg\" height=\"24px\"viewBox=\"0 0 24 24\"\n",
              "       width=\"24px\">\n",
              "    <path d=\"M0 0h24v24H0V0z\" fill=\"none\"/>\n",
              "    <path d=\"M18.56 5.44l.94 2.06.94-2.06 2.06-.94-2.06-.94-.94-2.06-.94 2.06-2.06.94zm-11 1L8.5 8.5l.94-2.06 2.06-.94-2.06-.94L8.5 2.5l-.94 2.06-2.06.94zm10 10l.94 2.06.94-2.06 2.06-.94-2.06-.94-.94-2.06-.94 2.06-2.06.94z\"/><path d=\"M17.41 7.96l-1.37-1.37c-.4-.4-.92-.59-1.43-.59-.52 0-1.04.2-1.43.59L10.3 9.45l-7.72 7.72c-.78.78-.78 2.05 0 2.83L4 21.41c.39.39.9.59 1.41.59.51 0 1.02-.2 1.41-.59l7.78-7.78 2.81-2.81c.8-.78.8-2.07 0-2.86zM5.41 20L4 18.59l7.72-7.72 1.47 1.35L5.41 20z\"/>\n",
              "  </svg>\n",
              "      </button>\n",
              "      \n",
              "  <style>\n",
              "    .colab-df-container {\n",
              "      display:flex;\n",
              "      flex-wrap:wrap;\n",
              "      gap: 12px;\n",
              "    }\n",
              "\n",
              "    .colab-df-convert {\n",
              "      background-color: #E8F0FE;\n",
              "      border: none;\n",
              "      border-radius: 50%;\n",
              "      cursor: pointer;\n",
              "      display: none;\n",
              "      fill: #1967D2;\n",
              "      height: 32px;\n",
              "      padding: 0 0 0 0;\n",
              "      width: 32px;\n",
              "    }\n",
              "\n",
              "    .colab-df-convert:hover {\n",
              "      background-color: #E2EBFA;\n",
              "      box-shadow: 0px 1px 2px rgba(60, 64, 67, 0.3), 0px 1px 3px 1px rgba(60, 64, 67, 0.15);\n",
              "      fill: #174EA6;\n",
              "    }\n",
              "\n",
              "    [theme=dark] .colab-df-convert {\n",
              "      background-color: #3B4455;\n",
              "      fill: #D2E3FC;\n",
              "    }\n",
              "\n",
              "    [theme=dark] .colab-df-convert:hover {\n",
              "      background-color: #434B5C;\n",
              "      box-shadow: 0px 1px 3px 1px rgba(0, 0, 0, 0.15);\n",
              "      filter: drop-shadow(0px 1px 2px rgba(0, 0, 0, 0.3));\n",
              "      fill: #FFFFFF;\n",
              "    }\n",
              "  </style>\n",
              "\n",
              "      <script>\n",
              "        const buttonEl =\n",
              "          document.querySelector('#df-2097fe91-aad7-413e-9024-77ebae418bc1 button.colab-df-convert');\n",
              "        buttonEl.style.display =\n",
              "          google.colab.kernel.accessAllowed ? 'block' : 'none';\n",
              "\n",
              "        async function convertToInteractive(key) {\n",
              "          const element = document.querySelector('#df-2097fe91-aad7-413e-9024-77ebae418bc1');\n",
              "          const dataTable =\n",
              "            await google.colab.kernel.invokeFunction('convertToInteractive',\n",
              "                                                     [key], {});\n",
              "          if (!dataTable) return;\n",
              "\n",
              "          const docLinkHtml = 'Like what you see? Visit the ' +\n",
              "            '<a target=\"_blank\" href=https://colab.research.google.com/notebooks/data_table.ipynb>data table notebook</a>'\n",
              "            + ' to learn more about interactive tables.';\n",
              "          element.innerHTML = '';\n",
              "          dataTable['output_type'] = 'display_data';\n",
              "          await google.colab.output.renderOutput(dataTable, element);\n",
              "          const docLink = document.createElement('div');\n",
              "          docLink.innerHTML = docLinkHtml;\n",
              "          element.appendChild(docLink);\n",
              "        }\n",
              "      </script>\n",
              "    </div>\n",
              "  </div>\n",
              "  "
            ]
          },
          "metadata": {},
          "execution_count": 146
        }
      ]
    },
    {
      "cell_type": "code",
      "source": [
        "#checking fo null values\n",
        "wine.isnull().sum()"
      ],
      "metadata": {
        "id": "83Ton91k86Sd",
        "colab": {
          "base_uri": "https://localhost:8080/"
        },
        "outputId": "d05c1a8a-bc7b-4aa4-a82a-c149ac5b853a"
      },
      "execution_count": null,
      "outputs": [
        {
          "output_type": "execute_result",
          "data": {
            "text/plain": [
              "fixed acidity           0\n",
              "volatile acidity        0\n",
              "citric acid             0\n",
              "residual sugar          0\n",
              "chlorides               0\n",
              "free sulfur dioxide     0\n",
              "total sulfur dioxide    0\n",
              "density                 0\n",
              "pH                      0\n",
              "sulphates               0\n",
              "alcohol                 0\n",
              "quality                 0\n",
              "dtype: int64"
            ]
          },
          "metadata": {},
          "execution_count": 147
        }
      ]
    },
    {
      "cell_type": "code",
      "source": [
        "#Encoding the categorical feature\n",
        "enc = LabelEncoder()\n",
        "\n",
        "# Apply the encoding to the \"quality\" column\n",
        "wine['quality'] = enc.fit_transform(wine['quality'])\n"
      ],
      "metadata": {
        "id": "5APyJwqz8-GU"
      },
      "execution_count": null,
      "outputs": []
    },
    {
      "cell_type": "code",
      "source": [
        "#Using Pearson Correlation to see correlation among features\n",
        "plt.figure(figsize=(12,10))\n",
        "cor = wine.corr()\n",
        "sns.heatmap(cor, annot=True, cmap=plt.cm.CMRmap_r)\n",
        "plt.show()"
      ],
      "metadata": {
        "id": "hMg_mPDj9ApI",
        "colab": {
          "base_uri": "https://localhost:8080/",
          "height": 679
        },
        "outputId": "b4d7f830-a542-4828-bdaf-b3b047a184b7"
      },
      "execution_count": null,
      "outputs": [
        {
          "output_type": "display_data",
          "data": {
            "text/plain": [
              "<Figure size 864x720 with 2 Axes>"
            ],
            "image/png": "[encoded data removed]"
          },
          "metadata": {
            "needs_background": "light"
          }
        }
      ]
    },
    {
      "cell_type": "code",
      "source": [
        "# with the following function we can select highly correlated features\n",
        "# it will remove the first feature that is correlated with anything other feature\n",
        "\n",
        "def correlation(dataset, threshold):\n",
        "    col_corr = set()  # Set of all the names of correlated columns\n",
        "    corr_matrix = dataset.corr()\n",
        "    for i in range(len(corr_matrix.columns)):\n",
        "        for j in range(i):\n",
        "            if abs(corr_matrix.iloc[i, j]) > threshold: # we are interested in absolute coeff value\n",
        "                colname = corr_matrix.columns[i]  # getting the name of column\n",
        "                col_corr.add(colname)\n",
        "    return col_corr\n"
      ],
      "metadata": {
        "id": "9c6nR4Ef9DCI"
      },
      "execution_count": null,
      "outputs": []
    },
    {
      "cell_type": "code",
      "source": [
        "corr_features = correlation(wine, 0.68) #setting a correlation threshold\n",
        "len(set(corr_features))"
      ],
      "metadata": {
        "colab": {
          "base_uri": "https://localhost:8080/"
        },
        "id": "-fiADczK9MGi",
        "outputId": "bd82db34-2ce2-48a9-b064-0c5d2df691df"
      },
      "execution_count": null,
      "outputs": [
        {
          "output_type": "execute_result",
          "data": {
            "text/plain": [
              "1"
            ]
          },
          "metadata": {},
          "execution_count": 151
        }
      ]
    },
    {
      "cell_type": "code",
      "source": [
        "corr_features"
      ],
      "metadata": {
        "colab": {
          "base_uri": "https://localhost:8080/"
        },
        "id": "rKAqtUeJ9PDq",
        "outputId": "3a7b0123-40c5-461f-c532-63bfa4913768"
      },
      "execution_count": null,
      "outputs": [
        {
          "output_type": "execute_result",
          "data": {
            "text/plain": [
              "{'pH'}"
            ]
          },
          "metadata": {},
          "execution_count": 152
        }
      ]
    },
    {
      "cell_type": "code",
      "source": [
        "wine = wine.drop(corr_features, axis=1)\n"
      ],
      "metadata": {
        "id": "DMITMyV_9Q05"
      },
      "execution_count": null,
      "outputs": []
    },
    {
      "cell_type": "code",
      "source": [
        "# separate dataset into train and test\n",
        "X = wine.iloc[:,:-1]\n",
        "Y = wine.iloc[:,-1]\n",
        "X_train, X_test, y_train, y_test = train_test_split(X, Y, test_size=0.2, random_state=29, shuffle=True)"
      ],
      "metadata": {
        "id": "lAKW7Ecb9ShJ"
      },
      "execution_count": null,
      "outputs": []
    },
    {
      "cell_type": "code",
      "source": [
        "#preprocessing using 0-1 scaling\n",
        "scaler = MinMaxScaler()\n",
        "scaler.fit(X_train)\n",
        "\n",
        "X_train_scaled = scaler.transform(X_train)\n",
        "X_train_PCA = X_train_scaled\n",
        "X_test_scaled = scaler.transform(X_test)\n",
        "X_test_PCA = X_test_scaled"
      ],
      "metadata": {
        "id": "-QmQQa4i9Ukd"
      },
      "execution_count": null,
      "outputs": []
    },
    {
      "cell_type": "code",
      "source": [
        "#SVM\n",
        "from sklearn.svm import SVC\n",
        "svc = SVC(kernel=\"linear\")\n",
        "svc.fit(X_train_scaled, y_train)"
      ],
      "metadata": {
        "colab": {
          "base_uri": "https://localhost:8080/"
        },
        "id": "9PaLIXxV925B",
        "outputId": "4b9a047c-555d-485e-bfa5-19b3957af7c4"
      },
      "execution_count": null,
      "outputs": [
        {
          "output_type": "execute_result",
          "data": {
            "text/plain": [
              "SVC(kernel='linear')"
            ]
          },
          "metadata": {},
          "execution_count": 156
        }
      ]
    },
    {
      "cell_type": "code",
      "source": [
        "train_svm_acc = svc.score(X_train_scaled, y_train)\n",
        "print(\"Training accuracy of the model is {:.2f}\".format(train_svm_acc))\n",
        "svm_acc = svc.score(X_test_scaled, y_test)\n",
        "print(\"Testing accuracy of the model is {:.2f}\".format(svm_acc))"
      ],
      "metadata": {
        "colab": {
          "base_uri": "https://localhost:8080/"
        },
        "id": "tt-3vvq0zibb",
        "outputId": "919bfe23-f64e-4664-b638-60566219d3c0"
      },
      "execution_count": null,
      "outputs": [
        {
          "output_type": "stream",
          "name": "stdout",
          "text": [
            "Training accuracy of the model is 0.73\n",
            "Testing accuracy of the model is 0.78\n"
          ]
        }
      ]
    },
    {
      "cell_type": "code",
      "source": [
        "predictions = svc.predict(X_test_scaled)\n",
        "print(predictions)"
      ],
      "metadata": {
        "id": "oQVVYqNlzsvq",
        "colab": {
          "base_uri": "https://localhost:8080/"
        },
        "outputId": "ad20bf59-f505-4ce8-d799-e776ead00e05"
      },
      "execution_count": null,
      "outputs": [
        {
          "output_type": "stream",
          "name": "stdout",
          "text": [
            "[0 1 0 0 0 0 1 0 0 1 1 0 1 0 0 0 0 1 1 1 0 0 0 0 1 0 0 0 0 0 1 1 0 1 0 1 1\n",
            " 1 1 1 1 1 0 1 0 1 0 1 1 1 1 0 1 0 0 0 0 1 0 0 1 1 0 1 1 0 1 1 0 1 0 0 0 0\n",
            " 1 0 0 1 0 1 1 0 1 1 1 0 0 0 1 0 1 1 0 0 1 1 1 0 1 0 1 1 0 0 1 1 0 1 0 1 1\n",
            " 0 0 0 1 0 1 0 1 0 1 0 1 0 1 1 1 0 1 0 0 0 0 0 0 0 0 1 1 1 1 1 1 1 1 0 0 0\n",
            " 1 0 1 0 0 0 0 1 1 1 1 1 0 0 0 1 0 1 0 1 1 1 1 0 1 1 1 1 0 1 1 0 1 0 0 0 1\n",
            " 0 1 1 1 0 0 1 0 1 1 1 1 0 1 0 0 0 0 0 0 1 1 1 0 1 0 1 0 1 0 0 0 1 0 1 0 1\n",
            " 1 1 1 0 0 1 0 1 0 0 1 0 1 1 1 1 1 0 1 0 1 0 0 1 1 0 0 0 0 0 1 1 0 0 1 1 0\n",
            " 1 0 1 1 1 0 1 1 1 0 1 0 0 1 0 1 0 0 1 1 1 0 0 1 0 0 0 0 1 0 1 1 0 1 0 1 0\n",
            " 1 0 0 0 0 0 0 1 0 0 0 0 1 1 1 1 0 0 0 0 0 1 0 1]\n"
          ]
        }
      ]
    },
    {
      "cell_type": "code",
      "source": [
        "#Random Forest\n",
        "from sklearn.ensemble import RandomForestClassifier\n",
        "rfc = RandomForestClassifier(n_estimators=50)\n",
        "rfc.fit(X_train_scaled, y_train)"
      ],
      "metadata": {
        "colab": {
          "base_uri": "https://localhost:8080/"
        },
        "id": "A3xUPoG4zw-Q",
        "outputId": "e827dad0-6b2b-47d8-f00a-63ec31a5816c"
      },
      "execution_count": null,
      "outputs": [
        {
          "output_type": "execute_result",
          "data": {
            "text/plain": [
              "RandomForestClassifier(n_estimators=50)"
            ]
          },
          "metadata": {},
          "execution_count": 159
        }
      ]
    },
    {
      "cell_type": "code",
      "source": [
        "train_rndm_acc = rfc.score(X_train_scaled, y_train)\n",
        "print(\"Training accuracy of the model is {:.2f}\".format(train_rndm_acc))\n",
        "rndm_acc = rfc.score(X_test_scaled, y_test)\n",
        "print(\"Testing accuracy of the model is {:.2f}\".format(rndm_acc))"
      ],
      "metadata": {
        "colab": {
          "base_uri": "https://localhost:8080/"
        },
        "id": "XImt2Vze3lk-",
        "outputId": "1069d5e1-9751-4fc7-b8fb-10993464fd5f"
      },
      "execution_count": null,
      "outputs": [
        {
          "output_type": "stream",
          "name": "stdout",
          "text": [
            "Training accuracy of the model is 1.00\n",
            "Testing accuracy of the model is 0.81\n"
          ]
        }
      ]
    },
    {
      "cell_type": "code",
      "source": [
        "#Neural Network\n",
        "from sklearn.neural_network import MLPClassifier\n",
        "nnc=MLPClassifier(hidden_layer_sizes=(7), activation=\"relu\", max_iter=10000)"
      ],
      "metadata": {
        "id": "mllOmSaV3wcL"
      },
      "execution_count": null,
      "outputs": []
    },
    {
      "cell_type": "code",
      "source": [
        "nnc.fit(X_train_scaled, y_train)"
      ],
      "metadata": {
        "colab": {
          "base_uri": "https://localhost:8080/"
        },
        "id": "Ca4Sc99k31rw",
        "outputId": "191be011-d08b-4558-f797-ea267aaf8556"
      },
      "execution_count": null,
      "outputs": [
        {
          "output_type": "execute_result",
          "data": {
            "text/plain": [
              "MLPClassifier(hidden_layer_sizes=7, max_iter=10000)"
            ]
          },
          "metadata": {},
          "execution_count": 162
        }
      ]
    },
    {
      "cell_type": "code",
      "source": [
        "train_nnc_acc = nnc.score(X_train_scaled, y_train)\n",
        "print(\"The Training accuracy of the model is {:.2f}\".format(train_nnc_acc))\n",
        "nnc_acc = nnc.score(X_test_scaled, y_test)\n",
        "print(\"The Testing accuracy of the model is {:.2f}\".format(nnc_acc))"
      ],
      "metadata": {
        "colab": {
          "base_uri": "https://localhost:8080/"
        },
        "id": "ujTGIpqS36-q",
        "outputId": "fabe299e-285b-4dbe-e475-b692499ee5dd"
      },
      "execution_count": null,
      "outputs": [
        {
          "output_type": "stream",
          "name": "stdout",
          "text": [
            "The Training accuracy of the model is 0.74\n",
            "The Testing accuracy of the model is 0.77\n"
          ]
        }
      ]
    },
    {
      "cell_type": "code",
      "source": [
        "predictions = nnc.predict(X_test_scaled)\n",
        "print(predictions)"
      ],
      "metadata": {
        "id": "ou2YLnCH3_50",
        "colab": {
          "base_uri": "https://localhost:8080/"
        },
        "outputId": "1c2351cf-e8d6-41fe-a1f6-891ed1411e23"
      },
      "execution_count": null,
      "outputs": [
        {
          "output_type": "stream",
          "name": "stdout",
          "text": [
            "[1 1 0 0 0 0 1 0 0 1 1 0 1 0 0 0 0 1 1 1 0 0 0 0 1 1 0 0 1 0 1 1 0 1 0 1 1\n",
            " 1 1 1 1 1 0 1 0 1 0 1 1 1 1 0 0 0 0 0 0 1 0 0 1 1 0 1 1 0 1 1 0 1 1 0 1 0\n",
            " 1 0 0 1 0 1 1 0 1 1 1 0 0 0 1 0 1 1 0 0 1 1 1 0 1 0 1 1 0 0 1 1 0 1 0 1 1\n",
            " 0 0 0 1 0 1 0 1 0 1 1 1 0 1 1 1 0 1 0 0 0 0 0 0 0 0 1 1 1 1 1 1 1 1 0 1 0\n",
            " 1 0 1 0 0 0 0 0 1 1 1 1 0 0 0 1 0 1 0 1 1 1 1 0 1 1 1 1 0 1 1 0 1 0 0 0 1\n",
            " 0 0 1 1 0 0 1 0 1 1 1 1 0 1 1 0 0 0 0 0 1 1 1 0 1 0 1 0 1 0 0 0 1 0 1 0 1\n",
            " 1 1 1 0 0 1 0 1 0 0 1 0 1 1 1 1 1 0 1 0 1 0 0 1 1 1 0 0 0 0 1 1 0 0 1 1 0\n",
            " 0 1 1 1 1 0 1 1 1 0 1 0 0 1 0 1 0 0 1 1 1 1 0 1 0 0 0 0 1 0 1 1 0 1 0 1 0\n",
            " 1 0 0 0 0 0 0 1 1 0 0 0 1 1 1 1 0 0 0 0 0 1 0 1]\n"
          ]
        }
      ]
    },
    {
      "cell_type": "markdown",
      "source": [
        "# **Now performing with PCA**"
      ],
      "metadata": {
        "id": "OHgCNUAf-XIc"
      }
    },
    {
      "cell_type": "code",
      "source": [
        "\n",
        "# importing or loading the dataset\n",
        "dataset = pd.read_csv('/content/drive/MyDrive/SKILL_DEV/Machine Learning/422 ML/datasets/wine.csv')\n",
        " \n",
        "# distributing the dataset into two components X and Y\n",
        "X = dataset.iloc[:, :-1].values\n",
        "y = dataset.iloc[:, -1].values"
      ],
      "metadata": {
        "id": "aavlkFR95XiK"
      },
      "execution_count": null,
      "outputs": []
    },
    {
      "cell_type": "code",
      "source": [
        "# Splitting the X and Y into the\n",
        "# Training set and Testing set\n",
        "from sklearn.model_selection import train_test_split\n",
        "X_train_PCA, X_test_PCA, y_train_PCA, y_test_PCA = train_test_split(X, y, test_size = 0.2, random_state = 0)"
      ],
      "metadata": {
        "id": "MO72Om6e5pPL"
      },
      "execution_count": null,
      "outputs": []
    },
    {
      "cell_type": "code",
      "source": [
        "# performing preprocessing part\n",
        "from sklearn.preprocessing import StandardScaler\n",
        "sc = StandardScaler()\n",
        " \n",
        "X_train_PCA = sc.fit_transform(X_train_PCA)\n",
        "X_test_PCA = sc.transform(X_test_PCA)"
      ],
      "metadata": {
        "id": "Ct45OMrj58E1"
      },
      "execution_count": null,
      "outputs": []
    },
    {
      "cell_type": "code",
      "source": [
        "# Applying PCA function on training\n",
        "# and testing set of X component\n",
        "from sklearn.decomposition import PCA\n",
        " \n",
        "pca = PCA(n_components=6)\n",
        " \n",
        "X_train_PCA = pca.fit_transform(X_train_PCA)\n",
        "X_test_PCA = pca.transform(X_test_PCA)\n",
        " \n",
        "explained_variance = pca.explained_variance_ratio_"
      ],
      "metadata": {
        "id": "N4priGdT4Oss"
      },
      "execution_count": null,
      "outputs": []
    },
    {
      "cell_type": "code",
      "source": [
        "#SVM after PCA\n",
        "from sklearn.svm import SVC\n",
        "svc = SVC(kernel=\"linear\")\n",
        "svc.fit(X_train_PCA, y_train_PCA)"
      ],
      "metadata": {
        "colab": {
          "base_uri": "https://localhost:8080/"
        },
        "id": "NqkHqvA-6gz_",
        "outputId": "2e1ff441-6d0e-4f45-fe1c-c337e73a318a"
      },
      "execution_count": null,
      "outputs": [
        {
          "output_type": "execute_result",
          "data": {
            "text/plain": [
              "SVC(kernel='linear')"
            ]
          },
          "metadata": {},
          "execution_count": 169
        }
      ]
    },
    {
      "cell_type": "code",
      "source": [
        "train_svm_acc_PCA = svc.score(X_train_PCA, y_train_PCA)\n",
        "print(\"Training accuracy of the model is {:.2f}\".format(train_svm_acc_PCA))\n",
        "svm_acc_PCA = svc.score(X_test_PCA, y_test_PCA)\n",
        "print(\"Testing accuracy of the model is {:.2f}\".format(svm_acc_PCA))"
      ],
      "metadata": {
        "colab": {
          "base_uri": "https://localhost:8080/"
        },
        "id": "_WwyIZn27O1u",
        "outputId": "e3da71fc-5539-489b-ef2f-27167ef4dcb1"
      },
      "execution_count": null,
      "outputs": [
        {
          "output_type": "stream",
          "name": "stdout",
          "text": [
            "Training accuracy of the model is 0.73\n",
            "Testing accuracy of the model is 0.74\n"
          ]
        }
      ]
    },
    {
      "cell_type": "code",
      "source": [
        "#Random Forest after PCA\n",
        "from sklearn.ensemble import RandomForestClassifier\n",
        "rfc = RandomForestClassifier(n_estimators=50)\n",
        "rfc.fit(X_train_PCA, y_train_PCA)"
      ],
      "metadata": {
        "colab": {
          "base_uri": "https://localhost:8080/"
        },
        "id": "fa1R4bE58bqb",
        "outputId": "09c62bd3-5736-41b2-9385-cb07c95c8964"
      },
      "execution_count": null,
      "outputs": [
        {
          "output_type": "execute_result",
          "data": {
            "text/plain": [
              "RandomForestClassifier(n_estimators=50)"
            ]
          },
          "metadata": {},
          "execution_count": 171
        }
      ]
    },
    {
      "cell_type": "code",
      "source": [
        "train_rndm_acc_PCA = rfc.score(X_train_PCA, y_train_PCA)\n",
        "print(\"Training accuracy of the model is {:.2f}\".format(train_rndm_acc_PCA))\n",
        "rndm_acc_PCA = rfc.score(X_test_PCA, y_test_PCA)\n",
        "print(\"Testing accuracy of the model is {:.2f}\".format(rndm_acc_PCA))"
      ],
      "metadata": {
        "colab": {
          "base_uri": "https://localhost:8080/"
        },
        "id": "C4m72Zdl8f2E",
        "outputId": "285a9022-bfd6-454c-997c-8e70403524fd"
      },
      "execution_count": null,
      "outputs": [
        {
          "output_type": "stream",
          "name": "stdout",
          "text": [
            "Training accuracy of the model is 1.00\n",
            "Testing accuracy of the model is 0.78\n"
          ]
        }
      ]
    },
    {
      "cell_type": "code",
      "source": [
        "#Neural Network after PCA\n",
        "from sklearn.neural_network import MLPClassifier\n",
        "nnc=MLPClassifier(hidden_layer_sizes=(7), activation=\"relu\", max_iter=10000)"
      ],
      "metadata": {
        "id": "HX5jLGbb8tLf"
      },
      "execution_count": null,
      "outputs": []
    },
    {
      "cell_type": "code",
      "source": [
        "nnc.fit(X_train_PCA, y_train_PCA)"
      ],
      "metadata": {
        "colab": {
          "base_uri": "https://localhost:8080/"
        },
        "id": "yJEujs508yk5",
        "outputId": "0e288093-e2e3-4cec-e029-c7ed14f85b87"
      },
      "execution_count": null,
      "outputs": [
        {
          "output_type": "execute_result",
          "data": {
            "text/plain": [
              "MLPClassifier(hidden_layer_sizes=7, max_iter=10000)"
            ]
          },
          "metadata": {},
          "execution_count": 174
        }
      ]
    },
    {
      "cell_type": "code",
      "source": [
        "train_nnc_acc_PCA = nnc.score(X_train_PCA, y_train_PCA)\n",
        "print(\"Training accuracy of the model is {:.2f}\".format(train_nnc_acc_PCA))\n",
        "nnc_acc_PCA = nnc.score(X_test_PCA, y_test_PCA)\n",
        "print(\"Testing accuracy of the model is {:.2f}\".format(nnc_acc_PCA))"
      ],
      "metadata": {
        "colab": {
          "base_uri": "https://localhost:8080/"
        },
        "id": "XkdbacT485Y-",
        "outputId": "ad85f45e-f9a5-4bf8-bda6-92ef7a91154b"
      },
      "execution_count": null,
      "outputs": [
        {
          "output_type": "stream",
          "name": "stdout",
          "text": [
            "Training accuracy of the model is 0.75\n",
            "Testing accuracy of the model is 0.73\n"
          ]
        }
      ]
    },
    {
      "cell_type": "code",
      "source": [
        "predictions = nnc.predict(X_test_PCA)\n",
        "print(predictions)"
      ],
      "metadata": {
        "id": "bSWKsXlR9CJp",
        "colab": {
          "base_uri": "https://localhost:8080/"
        },
        "outputId": "6e46f86b-ae9f-4ef0-b9b1-3ef7622b700f"
      },
      "execution_count": null,
      "outputs": [
        {
          "output_type": "stream",
          "name": "stdout",
          "text": [
            "['good' 'bad' 'good' 'bad' 'good' 'bad' 'bad' 'good' 'bad' 'bad' 'bad'\n",
            " 'bad' 'bad' 'good' 'good' 'good' 'good' 'good' 'good' 'bad' 'good' 'good'\n",
            " 'bad' 'good' 'good' 'bad' 'bad' 'good' 'bad' 'good' 'good' 'good' 'good'\n",
            " 'bad' 'good' 'good' 'bad' 'good' 'good' 'good' 'bad' 'good' 'good' 'good'\n",
            " 'good' 'bad' 'bad' 'good' 'good' 'good' 'bad' 'bad' 'good' 'good' 'good'\n",
            " 'bad' 'bad' 'bad' 'good' 'good' 'bad' 'good' 'good' 'good' 'bad' 'good'\n",
            " 'bad' 'bad' 'good' 'good' 'bad' 'bad' 'bad' 'bad' 'good' 'good' 'bad'\n",
            " 'bad' 'good' 'good' 'bad' 'bad' 'good' 'good' 'bad' 'bad' 'good' 'bad'\n",
            " 'bad' 'bad' 'bad' 'bad' 'good' 'bad' 'good' 'bad' 'good' 'bad' 'bad'\n",
            " 'good' 'good' 'good' 'good' 'good' 'good' 'bad' 'good' 'bad' 'good' 'bad'\n",
            " 'good' 'bad' 'good' 'bad' 'bad' 'good' 'bad' 'good' 'good' 'bad' 'bad'\n",
            " 'good' 'bad' 'bad' 'good' 'good' 'bad' 'bad' 'good' 'good' 'bad' 'bad'\n",
            " 'good' 'good' 'good' 'bad' 'good' 'bad' 'good' 'bad' 'good' 'bad' 'bad'\n",
            " 'good' 'good' 'good' 'good' 'good' 'good' 'bad' 'good' 'good' 'bad' 'bad'\n",
            " 'good' 'bad' 'bad' 'bad' 'good' 'good' 'good' 'bad' 'good' 'bad' 'bad'\n",
            " 'bad' 'good' 'good' 'bad' 'good' 'good' 'bad' 'bad' 'good' 'good' 'good'\n",
            " 'good' 'good' 'good' 'bad' 'bad' 'good' 'bad' 'good' 'good' 'bad' 'good'\n",
            " 'good' 'bad' 'good' 'good' 'good' 'good' 'bad' 'bad' 'bad' 'bad' 'bad'\n",
            " 'bad' 'bad' 'bad' 'good' 'bad' 'bad' 'bad' 'bad' 'bad' 'good' 'good'\n",
            " 'bad' 'good' 'good' 'bad' 'good' 'bad' 'bad' 'good' 'good' 'good' 'bad'\n",
            " 'bad' 'good' 'good' 'good' 'bad' 'good' 'good' 'good' 'bad' 'bad' 'bad'\n",
            " 'good' 'bad' 'good' 'good' 'good' 'good' 'good' 'good' 'good' 'bad' 'bad'\n",
            " 'bad' 'bad' 'good' 'bad' 'bad' 'bad' 'bad' 'good' 'bad' 'bad' 'bad' 'bad'\n",
            " 'bad' 'bad' 'bad' 'bad' 'bad' 'bad' 'bad' 'good' 'bad' 'good' 'bad' 'bad'\n",
            " 'good' 'bad' 'good' 'good' 'bad' 'good' 'bad' 'good' 'good' 'good' 'good'\n",
            " 'bad' 'good' 'good' 'bad' 'good' 'good' 'good' 'good' 'bad' 'good' 'bad'\n",
            " 'good' 'good' 'good' 'bad' 'good' 'good' 'bad' 'good' 'good' 'bad' 'bad'\n",
            " 'bad' 'good' 'bad' 'bad' 'good' 'good' 'good' 'bad' 'bad' 'good' 'bad'\n",
            " 'good' 'good' 'good' 'bad' 'bad' 'good' 'good' 'good' 'bad' 'good']\n"
          ]
        }
      ]
    },
    {
      "cell_type": "code",
      "source": [
        "plt.rcParams.update({'figure.figsize':(18,5), 'figure.dpi':100})"
      ],
      "metadata": {
        "id": "_-VK7CAGtPiN"
      },
      "execution_count": null,
      "outputs": []
    },
    {
      "cell_type": "code",
      "source": [
        "x = ['SVM','PCA SVM', 'Random Forest', 'PCA Random Forest', 'Neural Network', 'PCA Neural Network']\n",
        "y = [svm_acc, svm_acc_PCA, rndm_acc, rndm_acc_PCA, nnc_acc, nnc_acc_PCA]\n",
        "# print(y)\n",
        "plt.bar(x, y)\n",
        "plt.xlabel(\"Accuracy\")\n",
        "plt.ylabel('Percentage')\n",
        "plt.title('Comparison of Testing accuracy')\n",
        "plt.show()"
      ],
      "metadata": {
        "colab": {
          "base_uri": "https://localhost:8080/",
          "height": 410
        },
        "id": "3SzZ3Q6UtVj_",
        "outputId": "514f9604-f102-4237-b401-267600847bcc"
      },
      "execution_count": null,
      "outputs": [
        {
          "output_type": "display_data",
          "data": {
            "text/plain": [
              "<Figure size 1800x500 with 1 Axes>"
            ],
            "image/png": "[encoded data removed]"
          },
          "metadata": {
            "needs_background": "light"
          }
        }
      ]
    },
    {
      "cell_type": "code",
      "source": [
        "x = ['SVM','PCA SVM', 'Random Forest', 'PCA Random Forest', 'Neural Network', 'PCA Neural Network']\n",
        "y = [train_svm_acc, train_svm_acc_PCA, train_rndm_acc, train_rndm_acc_PCA, train_nnc_acc, train_nnc_acc_PCA]\n",
        "# print(y)\n",
        "plt.bar(x, y)\n",
        "plt.xlabel(\"Accuracy\")\n",
        "plt.ylabel('Percentage')\n",
        "plt.title('Comparison of Training accuracy')\n",
        "plt.show()"
      ],
      "metadata": {
        "colab": {
          "base_uri": "https://localhost:8080/",
          "height": 410
        },
        "id": "M3LCd06NviAE",
        "outputId": "1f0b53eb-898e-46b8-dc50-dd6087a90287"
      },
      "execution_count": null,
      "outputs": [
        {
          "output_type": "display_data",
          "data": {
            "text/plain": [
              "<Figure size 1800x500 with 1 Axes>"
            ],
            "image/png": "[encoded data removed]"
          },
          "metadata": {
            "needs_background": "light"
          }
        }
      ]
    }
  ]
}